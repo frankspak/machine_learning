{
 "cells": [
  {
   "cell_type": "code",
   "execution_count": 54,
   "metadata": {},
   "outputs": [],
   "source": [
    "class perceptron:\n",
    "    \n",
    "    def __init__ (self, bias, weight):\n",
    "        self.bias = bias\n",
    "        self.weight = weight\n",
    "        \n",
    "    def activate (self, som):\n",
    "        if som + self.bias < 0:\n",
    "            return 0\n",
    "        else:\n",
    "            return 1\n",
    "        \n",
    "    def get_output(self, input):\n",
    "        som = 0\n",
    "        for i in range (len(input)):\n",
    "            som += input[i] * self.weight[i]\n",
    "        output = self.activate(som)\n",
    "        return output\n",
    "def __str__ (self):\n",
    "    return ('bias: {}' + ' weight: {}').format(self.bias, self.weight)"
   ]
  },
  {
   "cell_type": "code",
   "execution_count": 55,
   "metadata": {},
   "outputs": [
    {
     "name": "stdout",
     "output_type": "stream",
     "text": [
      "<bound method perceptron.get_output of <__main__.perceptron object at 0x00000207FE06ED00>>\n",
      "0\n",
      "1\n",
      "1\n",
      "1\n"
     ]
    }
   ],
   "source": [
    "# a half adder uses an AND and XOR gate\n",
    "half_adder = perceptron(-1, [1, 2])\n",
    "print(half_adder.get_output)\n",
    "print(half_adder.get_output([0,0]))\n",
    "print(half_adder.get_output([0,1]))\n",
    "print(half_adder.get_output([1,0]))\n",
    "print(half_adder.get_output([1,1]))\n",
    "    \n",
    "    \n",
    "\n"
   ]
  },
  {
   "cell_type": "code",
   "execution_count": 39,
   "metadata": {},
   "outputs": [
    {
     "name": "stdout",
     "output_type": "stream",
     "text": [
      "Sum  1\n",
      "Carry 0\n"
     ]
    }
   ],
   "source": []
  },
  {
   "cell_type": "code",
   "execution_count": null,
   "metadata": {},
   "outputs": [],
   "source": []
  }
 ],
 "metadata": {
  "kernelspec": {
   "display_name": "Python 3",
   "language": "python",
   "name": "python3"
  },
  "language_info": {
   "codemirror_mode": {
    "name": "ipython",
    "version": 3
   },
   "file_extension": ".py",
   "mimetype": "text/x-python",
   "name": "python",
   "nbconvert_exporter": "python",
   "pygments_lexer": "ipython3",
   "version": "3.8.3"
  }
 },
 "nbformat": 4,
 "nbformat_minor": 4
}
