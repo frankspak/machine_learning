{
 "cells": [
  {
   "cell_type": "markdown",
   "metadata": {},
   "source": [
    "# Perceptrons"
   ]
  },
  {
   "cell_type": "markdown",
   "metadata": {},
   "source": [
    "Perceptron class\n",
    "Schrijf een klasse Perceptron:\n",
    "1. Een perceptron heeft in ieder geval weights en een bias. Let op: er geldt dat bias = –treshold.\n",
    "2. Voeg de activatiefunctie toe om uitvoer (output) te leveren bij een gegeven invoer (input).\n",
    "3. Voeg ook een methode __str__() toe om een Perceptron-object op een leesbare manier af te drukken.\n"
   ]
  },
  {
   "cell_type": "code",
   "execution_count": 1,
   "metadata": {},
   "outputs": [],
   "source": [
    "class perceptron:\n",
    "    \n",
    "    def __init__ (self, bias, weight):\n",
    "        self.bias = bias\n",
    "        self.weight = weight\n",
    "        \n",
    "    def activate (self, som):\n",
    "        if som + self.bias < 0:\n",
    "            return 0\n",
    "        else:\n",
    "            return 1\n",
    "        \n",
    "    def get_output(self, input):\n",
    "        som = 0\n",
    "        for i in range (len(input)):\n",
    "            som += input[i] * self.weight[i]\n",
    "        output = self.activate(som)\n",
    "        return output\n",
    "def __str__ (self):\n",
    "    return ('bias: {}' + ' weight: {}').format(self.bias, self.weight)"
   ]
  },
  {
   "cell_type": "markdown",
   "metadata": {},
   "source": [
    "Percetron class testen \n",
    "1. Initialiseer een Perceptron voor elk van de INVERT-, AND- en OR-poorten en test of ze op de juiste manier werken.\n",
    "2. Initialiseer een Perceptron voor een NOR-poort met drie ingangen en test of deze op de juiste manier werkt."
   ]
  },
  {
   "cell_type": "raw",
   "metadata": {},
   "source": [
    "gates\n",
    "\n",
    "testing different ports\n",
    "\n",
    "expected output:\n",
    "\n",
    "INVERT: 1 0 \n",
    "\n",
    "AND: 0 0 0 1\n",
    "\n",
    "OR: 0 1 1 1 \n",
    "\n",
    "NOR: 1 0 0 0 0 0 0"
   ]
  },
  {
   "cell_type": "code",
   "execution_count": 2,
   "metadata": {},
   "outputs": [
    {
     "name": "stdout",
     "output_type": "stream",
     "text": [
      "<__main__.perceptron object at 0x0000019350560E50>\n",
      "1\n",
      "0\n"
     ]
    }
   ],
   "source": [
    "invert_gate = perceptron(0, [-1])\n",
    "print(invert_gate)\n",
    "print(invert_gate.get_output([0]))\n",
    "print(invert_gate.get_output([1]))"
   ]
  },
  {
   "cell_type": "code",
   "execution_count": 3,
   "metadata": {},
   "outputs": [
    {
     "name": "stdout",
     "output_type": "stream",
     "text": [
      "<__main__.perceptron object at 0x000001935058FFA0>\n",
      "0\n",
      "0\n",
      "0\n",
      "1\n"
     ]
    }
   ],
   "source": [
    "and_gate = perceptron(-2,[1,1])\n",
    "print(and_gate)\n",
    "print(and_gate.get_output([0,0]))\n",
    "print(and_gate.get_output([0,1]))\n",
    "print(and_gate.get_output([1,0]))\n",
    "print(and_gate.get_output([1,1]))\n"
   ]
  },
  {
   "cell_type": "code",
   "execution_count": 4,
   "metadata": {},
   "outputs": [
    {
     "name": "stdout",
     "output_type": "stream",
     "text": [
      "<__main__.perceptron object at 0x000001935058FF70>\n",
      "0\n",
      "1\n",
      "1\n",
      "1\n"
     ]
    }
   ],
   "source": [
    "or_gate = perceptron(-1,[2, 2])\n",
    "print(or_gate)\n",
    "print(or_gate.get_output([0,0]))\n",
    "print(or_gate.get_output([0,1]))\n",
    "print(or_gate.get_output([1,0]))\n",
    "print(or_gate.get_output([1,1]))\n",
    "\n"
   ]
  },
  {
   "cell_type": "code",
   "execution_count": 5,
   "metadata": {},
   "outputs": [
    {
     "name": "stdout",
     "output_type": "stream",
     "text": [
      "<__main__.perceptron object at 0x00000193505CD460>\n",
      "1\n",
      "0\n",
      "0\n",
      "0\n",
      "0\n",
      "0\n",
      "0\n"
     ]
    }
   ],
   "source": [
    "nor_gate = perceptron(0, [-1 ,-1 ,-1])\n",
    "print(nor_gate)\n",
    "print(nor_gate.get_output([0,0,0]))\n",
    "print(nor_gate.get_output([0,0,1]))\n",
    "print(nor_gate.get_output([0,1,0]))\n",
    "print(nor_gate.get_output([1,0.0]))\n",
    "print(nor_gate.get_output([0,1,1]))\n",
    "print(nor_gate.get_output([1,1,0]))\n",
    "print(nor_gate.get_output([1,1,1]))"
   ]
  },
  {
   "cell_type": "markdown",
   "metadata": {},
   "source": [
    "extensive decision system\n",
    "1. Initialiseer ook een Perceptron voor een uitgebreider beslissysteem (minimaal 3 inputs, zie bijvoorbeeld Figuur 2.8 uit de reader) en test of deze naar verwachting werkt."
   ]
  },
  {
   "cell_type": "code",
   "execution_count": 6,
   "metadata": {},
   "outputs": [
    {
     "name": "stdout",
     "output_type": "stream",
     "text": [
      "1\n",
      "1\n",
      "0\n",
      "1\n",
      "0\n",
      "1\n",
      "1\n",
      "1\n",
      "1\n",
      "0\n",
      "0\n",
      "1\n",
      "1\n"
     ]
    }
   ],
   "source": [
    "ext_decision_sys = perceptron(0, [-1.4, 1.1, -0.2, 2])\n",
    "print(ext_decision_sys.get_output([0,0,0,0]))\n",
    "print(ext_decision_sys.get_output([0,0,0,1]))\n",
    "print(ext_decision_sys.get_output([0,0,1,0]))\n",
    "print(ext_decision_sys.get_output([0,1,0,0]))\n",
    "print(ext_decision_sys.get_output([1,0,0,0]))\n",
    "print(ext_decision_sys.get_output([0,0,1,1]))\n",
    "print(ext_decision_sys.get_output([0,1,0,1]))\n",
    "print(ext_decision_sys.get_output([1,0,0,1]))\n",
    "print(ext_decision_sys.get_output([0,1,1,0]))\n",
    "print(ext_decision_sys.get_output([1,0,1,0]))\n",
    "print(ext_decision_sys.get_output([1,1,0,0]))\n",
    "print(ext_decision_sys.get_output([1,0,1,1]))\n",
    "print(ext_decision_sys.get_output([1,1,1,1]))"
   ]
  },
  {
   "cell_type": "markdown",
   "metadata": {},
   "source": [
    "#  percepton network\n",
    "\n",
    "Een layered feed-forward network van perceptrons bestaat uit één of meer lagen van perceptrons. (In de praktijk gaat het meestal om twee of meer lagen.) Elke perceptron uit een laag is verbonden met alle perceptrons uit een volgende laag.\n",
    "\n",
    "1. Schrijf een klasse PerceptronLayer. Een laag heeft één of meer Perceptrons en levert bij activatie dus eenzelfde aantal outputs.\n",
    "2. Schrijf een klasse PerceptronNetwork. Een netwerk heeft één of meer PerceptronLayers. Schrijf een methode feed_forward() die de uitvoer van het netwerk bepaald bij een gegeven input.\n",
    "3.Test je PerceptronNetwork.\n",
    "    A. Initialiseer een PerceptronNetwork voor de XOR-poort met twee ingangen en test of deze op de juiste manier werkt.\n",
    "    B. Initialiseer een PerceptronNetwork voor de half adder en test of deze op de juiste manier werkt."
   ]
  },
  {
   "cell_type": "code",
   "execution_count": 7,
   "metadata": {},
   "outputs": [],
   "source": [
    "class perceptron_layer:\n",
    "    \n",
    "    def __init__(self):\n",
    "        self.perceptrons = []\n",
    "        \n",
    "    def setter (self, gates):\n",
    "        self.perceptrons.append(gates)\n",
    "        \n",
    "    def getter(self):\n",
    "        self.perceptrons\n",
    "    \n",
    "    def layer_output(self, input):\n",
    "        second_input = []\n",
    "        for perceptron in self.perceptrons:\n",
    "            second_input.append(perceptron.get_output(input))\n",
    "        return second_input\n",
    "    \n",
    "    def __str__(self):\n",
    "        return \"Amount of perceptrons in layer: {}\".format(len(self.perceptrons))\n",
    "            \n",
    "        \n",
    "        \n",
    "        \n",
    "    "
   ]
  },
  {
   "cell_type": "code",
   "execution_count": 8,
   "metadata": {},
   "outputs": [],
   "source": [
    "class perceptron_network:\n",
    "    \n",
    "    def __init__(self):\n",
    "        self.layers = []\n",
    "        \n",
    "    def setter_layers(self, number_of_layers):\n",
    "        self.layers.append(number_of_layers)\n",
    "    \n",
    "    def feed_forward(self, input):\n",
    "        \n",
    "        for layer in self.layers:\n",
    "            second_input = layer.layer_output(input)\n",
    "            input = second_input\n",
    "        return input\n",
    "            \n",
    "    "
   ]
  },
  {
   "cell_type": "markdown",
   "metadata": {},
   "source": [
    "# XOR and half adder "
   ]
  },
  {
   "cell_type": "markdown",
   "metadata": {},
   "source": [
    "XOR\n",
    "\n",
    "expected output of a XOR gate: 0 1 1 0"
   ]
  },
  {
   "cell_type": "code",
   "execution_count": 9,
   "metadata": {},
   "outputs": [
    {
     "name": "stdout",
     "output_type": "stream",
     "text": [
      "Amount of perceptrons in layer: 2\n"
     ]
    }
   ],
   "source": [
    "first_layer = perceptron_layer()\n",
    "first_layer.setter(nor_gate)\n",
    "first_layer.setter(and_gate)\n",
    "print(first_layer)"
   ]
  },
  {
   "cell_type": "code",
   "execution_count": 10,
   "metadata": {},
   "outputs": [
    {
     "name": "stdout",
     "output_type": "stream",
     "text": [
      "Amount of perceptrons in layer: 1\n"
     ]
    }
   ],
   "source": [
    "output_xor = perceptron(0, [-1, -1])\n",
    "second_layer = perceptron_layer()\n",
    "second_layer.setter(output_xor)\n",
    "print(second_layer)"
   ]
  },
  {
   "cell_type": "code",
   "execution_count": 11,
   "metadata": {},
   "outputs": [
    {
     "name": "stdout",
     "output_type": "stream",
     "text": [
      "[0]\n",
      "[1]\n",
      "[1]\n",
      "[0]\n"
     ]
    }
   ],
   "source": [
    "network = perceptron_network()\n",
    "network.setter_layers(first_layer)\n",
    "network.setter_layers(second_layer)\n",
    "\n",
    "print(network.feed_forward([0, 0]))\n",
    "print(network.feed_forward([0, 1]))\n",
    "print(network.feed_forward([1, 0]))\n",
    "print(network.feed_forward([1, 1]))"
   ]
  },
  {
   "cell_type": "markdown",
   "metadata": {},
   "source": [
    "half adder\n",
    "expected output:\n",
    "0 0 ,\n",
    "1 0 ,\n",
    "1 0 ,\n",
    "0 1 "
   ]
  },
  {
   "cell_type": "code",
   "execution_count": 12,
   "metadata": {},
   "outputs": [
    {
     "name": "stdout",
     "output_type": "stream",
     "text": [
      "<__main__.perceptron object at 0x000001935058F070>\n",
      "1\n",
      "1\n",
      "1\n",
      "0\n"
     ]
    }
   ],
   "source": [
    "# half adder, made by using an XOR gate and AND gate. But first we need to make an nand gate to get the expected output \n",
    "nand_gate = perceptron(2, [-1, -2])\n",
    "print(nand_gate)\n",
    "print(nand_gate.get_output([0, 0]))\n",
    "print(nand_gate.get_output([0, 1]))\n",
    "print(nand_gate.get_output([1, 0]))\n",
    "print(nand_gate.get_output([1, 1]))\n"
   ]
  },
  {
   "cell_type": "code",
   "execution_count": 13,
   "metadata": {},
   "outputs": [
    {
     "name": "stdout",
     "output_type": "stream",
     "text": [
      "Amount of perceptrons in layer: 3\n"
     ]
    }
   ],
   "source": [
    "\n",
    "first_layer_half_adder = perceptron_layer()\n",
    "first_layer_half_adder.setter(nand_gate)\n",
    "first_layer_half_adder.setter(or_gate)\n",
    "first_layer_half_adder.setter(and_gate)\n",
    "print(first_layer_half_adder)"
   ]
  },
  {
   "cell_type": "code",
   "execution_count": 14,
   "metadata": {},
   "outputs": [
    {
     "name": "stdout",
     "output_type": "stream",
     "text": [
      "Amount of perceptrons in layer: 2\n"
     ]
    }
   ],
   "source": [
    "first_perceptron = perceptron(-2, [1, 1, 0])\n",
    "second_perceptron = perceptron(-1, [0, 0, 4])\n",
    "second_layer_half_adder = perceptron_layer()\n",
    "second_layer_half_adder.setter(first_perceptron)\n",
    "second_layer_half_adder.setter(second_perceptron)\n",
    "print(second_layer_half_adder)"
   ]
  },
  {
   "cell_type": "code",
   "execution_count": 15,
   "metadata": {},
   "outputs": [
    {
     "name": "stdout",
     "output_type": "stream",
     "text": [
      "[0, 0]\n",
      "[1, 0]\n",
      "[1, 0]\n",
      "[0, 1]\n"
     ]
    }
   ],
   "source": [
    "network = perceptron_network()\n",
    "network.setter_layers(first_layer_half_adder)\n",
    "network.setter_layers(second_layer_half_adder)\n",
    "\n",
    "\n",
    "print(network.feed_forward([0, 0]))\n",
    "print(network.feed_forward([0, 1]))\n",
    "print(network.feed_forward([1, 0]))\n",
    "print(network.feed_forward([1, 1]))\n"
   ]
  },
  {
   "cell_type": "code",
   "execution_count": null,
   "metadata": {},
   "outputs": [],
   "source": []
  }
 ],
 "metadata": {
  "kernelspec": {
   "display_name": "Python 3",
   "language": "python",
   "name": "python3"
  },
  "language_info": {
   "codemirror_mode": {
    "name": "ipython",
    "version": 3
   },
   "file_extension": ".py",
   "mimetype": "text/x-python",
   "name": "python",
   "nbconvert_exporter": "python",
   "pygments_lexer": "ipython3",
   "version": "3.8.3"
  }
 },
 "nbformat": 4,
 "nbformat_minor": 4
}
